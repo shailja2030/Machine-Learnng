{
 "cells": [
  {
   "cell_type": "code",
   "execution_count": null,
   "id": "afe71009",
   "metadata": {},
   "outputs": [],
   "source": [
    "Random forest "
   ]
  },
  {
   "cell_type": "code",
   "execution_count": 1,
   "id": "0b3981b0",
   "metadata": {},
   "outputs": [
    {
     "data": {
      "text/plain": [
       "(RandomForestClassifier(random_state=42),\n",
       " 1.0,\n",
       " [(array([6.1, 2.8, 4.7, 1.2]), 'versicolor'),\n",
       "  (array([5.7, 3.8, 1.7, 0.3]), 'setosa'),\n",
       "  (array([7.7, 2.6, 6.9, 2.3]), 'virginica'),\n",
       "  (array([6. , 2.9, 4.5, 1.5]), 'versicolor'),\n",
       "  (array([6.8, 2.8, 4.8, 1.4]), 'versicolor')])"
      ]
     },
     "execution_count": 1,
     "metadata": {},
     "output_type": "execute_result"
    }
   ],
   "source": [
    "from sklearn.datasets import load_iris\n",
    "from sklearn.ensemble import RandomForestClassifier\n",
    "from sklearn.model_selection import train_test_split\n",
    "from sklearn.metrics import accuracy_score\n",
    "\n",
    "# Load iris dataset\n",
    "iris = load_iris()\n",
    "X = iris.data\n",
    "y = iris.target\n",
    "\n",
    "# Split the dataset into training and testing sets\n",
    "X_train, X_test, y_train, y_test = train_test_split(X, y, test_size=0.3, random_state=42)\n",
    "\n",
    "# Initialize the Random Forest classifier with 100 trees\n",
    "random_forest_model = RandomForestClassifier(n_estimators=100, random_state=42)\n",
    "\n",
    "# Fit the model on the training data\n",
    "random_forest_model.fit(X_train, y_train)\n",
    "\n",
    "# Predict the labels of the test set\n",
    "y_pred = random_forest_model.predict(X_test)\n",
    "\n",
    "# Calculate accuracy\n",
    "accuracy = accuracy_score(y_test, y_pred)\n",
    "\n",
    "# Using the trained model to make predictions on the first 5 test set samples\n",
    "sample_data = X_test[:5]\n",
    "sample_predictions = random_forest_model.predict(sample_data)\n",
    "\n",
    "# Prepare the results to show the actual species names\n",
    "species_names = iris.target_names[sample_predictions]\n",
    "\n",
    "# Display the predictions along with the actual species names\n",
    "predictions = list(zip(sample_data, species_names))\n",
    "\n",
    "# The trained model, its accuracy, and predictions on sample data\n",
    "random_forest_model, accuracy, predictions\n"
   ]
  },
  {
   "cell_type": "code",
   "execution_count": null,
   "id": "47dea584",
   "metadata": {},
   "outputs": [],
   "source": [
    "gradient decent "
   ]
  },
  {
   "cell_type": "code",
   "execution_count": 2,
   "id": "f72bcefe",
   "metadata": {},
   "outputs": [
    {
     "data": {
      "text/plain": [
       "(GradientBoostingClassifier(random_state=42),\n",
       " 1.0,\n",
       " [(array([6.1, 2.8, 4.7, 1.2]), 'versicolor'),\n",
       "  (array([5.7, 3.8, 1.7, 0.3]), 'setosa'),\n",
       "  (array([7.7, 2.6, 6.9, 2.3]), 'virginica'),\n",
       "  (array([6. , 2.9, 4.5, 1.5]), 'versicolor'),\n",
       "  (array([6.8, 2.8, 4.8, 1.4]), 'versicolor')])"
      ]
     },
     "execution_count": 2,
     "metadata": {},
     "output_type": "execute_result"
    }
   ],
   "source": [
    "from sklearn.datasets import load_iris\n",
    "from sklearn.ensemble import GradientBoostingClassifier\n",
    "from sklearn.model_selection import train_test_split\n",
    "from sklearn.metrics import accuracy_score\n",
    "\n",
    "# Load iris dataset\n",
    "iris = load_iris()\n",
    "X = iris.data\n",
    "y = iris.target\n",
    "\n",
    "# Split the dataset into training and testing sets\n",
    "X_train, X_test, y_train, y_test = train_test_split(X, y, test_size=0.3, random_state=42)\n",
    "\n",
    "# Initialize the Gradient Boosting classifier\n",
    "gradient_boosting_model = GradientBoostingClassifier(n_estimators=100, learning_rate=0.1, random_state=42)\n",
    "\n",
    "# Fit the model on the training data\n",
    "gradient_boosting_model.fit(X_train, y_train)\n",
    "\n",
    "# Predict the labels of the test set\n",
    "y_pred_gb = gradient_boosting_model.predict(X_test)\n",
    "\n",
    "# Calculate accuracy\n",
    "accuracy_gb = accuracy_score(y_test, y_pred_gb)\n",
    "\n",
    "# Using the trained model to make predictions on the first 5 test set samples\n",
    "sample_data = X_test[:5]\n",
    "sample_predictions_gb = gradient_boosting_model.predict(sample_data)\n",
    "\n",
    "# Prepare the results to show the actual species names\n",
    "species_names_gb = iris.target_names[sample_predictions_gb]\n",
    "\n",
    "# Display the predictions along with the actual species names\n",
    "predictions_gb = list(zip(sample_data, species_names_gb))\n",
    "\n",
    "# The trained model, its accuracy, and predictions on sample data\n",
    "gradient_boosting_model, accuracy_gb, predictions_gb\n"
   ]
  },
  {
   "cell_type": "code",
   "execution_count": null,
   "id": "b6bb644d",
   "metadata": {},
   "outputs": [],
   "source": []
  }
 ],
 "metadata": {
  "kernelspec": {
   "display_name": "Python 3 (ipykernel)",
   "language": "python",
   "name": "python3"
  },
  "language_info": {
   "codemirror_mode": {
    "name": "ipython",
    "version": 3
   },
   "file_extension": ".py",
   "mimetype": "text/x-python",
   "name": "python",
   "nbconvert_exporter": "python",
   "pygments_lexer": "ipython3",
   "version": "3.10.9"
  }
 },
 "nbformat": 4,
 "nbformat_minor": 5
}
